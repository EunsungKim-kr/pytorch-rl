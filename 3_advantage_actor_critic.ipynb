{
  "nbformat": 4,
  "nbformat_minor": 0,
  "metadata": {
    "colab": {
      "name": "scratchpad",
      "provenance": [],
      "machine_shape": "hm"
    },
    "kernelspec": {
      "display_name": "Python 3",
      "name": "python3"
    },
    "accelerator": "GPU"
  },
  "cells": [
    {
      "cell_type": "code",
      "metadata": {
        "id": "lIYdn1woOS1n"
      },
      "source": [
        "import torch\n",
        "import torch.nn as nn\n",
        "import torch.optim as optim\n",
        "import torch.nn.functional as F\n",
        "import torch.distributions as distributions\n",
        "\n",
        "import matplotlib.pyplot as plt\n",
        "import numpy as np\n",
        "import gym\n",
        "import tqdm"
      ],
      "execution_count": 17,
      "outputs": []
    },
    {
      "cell_type": "code",
      "metadata": {
        "id": "D1kir0PxunA7"
      },
      "source": [
        "train_env = gym.make('CartPole-v1')\n",
        "test_env = gym.make('CartPole-v1')"
      ],
      "execution_count": 18,
      "outputs": []
    },
    {
      "cell_type": "code",
      "metadata": {
        "id": "Bh6ySKtk4giJ"
      },
      "source": [
        "SEED = 1234\n",
        "\n",
        "train_env.seed(SEED);\n",
        "test_env.seed(SEED+1);\n",
        "np.random.seed(SEED);\n",
        "torch.manual_seed(SEED);"
      ],
      "execution_count": 19,
      "outputs": []
    },
    {
      "cell_type": "code",
      "metadata": {
        "id": "hOxENZewvGhX"
      },
      "source": [
        "class MLP(nn.Module):\n",
        "    def __init__(self, input_dim, hidden_dim, output_dim):\n",
        "        super().__init__()\n",
        "\n",
        "        self.fc_1 = nn.Linear(input_dim, hidden_dim)\n",
        "        self.fc_2 = nn.Linear(hidden_dim, output_dim)\n",
        "\n",
        "    def forward(self, x):\n",
        "        x = self.fc_1(x)\n",
        "        x = F.relu(x)\n",
        "        x = self.fc_2(x)\n",
        "        return x"
      ],
      "execution_count": 20,
      "outputs": []
    },
    {
      "cell_type": "code",
      "metadata": {
        "id": "ssN8w9iewdul"
      },
      "source": [
        "class ActorCritic(nn.Module):\n",
        "    def __init__(self, actor, critic):\n",
        "        super().__init__()\n",
        "        \n",
        "        self.actor = actor\n",
        "        self.critic = critic\n",
        "        \n",
        "    def forward(self, state):\n",
        "        \n",
        "        action_pred = self.actor(state)\n",
        "        value_pred = self.critic(state)\n",
        "        \n",
        "        return action_pred, value_pred"
      ],
      "execution_count": 21,
      "outputs": []
    },
    {
      "cell_type": "code",
      "metadata": {
        "id": "C42N0qKUxo0d"
      },
      "source": [
        "input_dim = train_env.observation_space.shape[0]\n",
        "hidden_dim = 32\n",
        "output_dim = train_env.action_space.n"
      ],
      "execution_count": 22,
      "outputs": []
    },
    {
      "cell_type": "code",
      "metadata": {
        "id": "DMalrE2I0iNn"
      },
      "source": [
        "def init_weights(m):\n",
        "    if type(m) == nn.Linear:\n",
        "        torch.nn.init.xavier_normal_(m.weight)\n",
        "        m.bias.data.fill_(0)"
      ],
      "execution_count": 23,
      "outputs": []
    },
    {
      "cell_type": "code",
      "metadata": {
        "id": "jmDLrSWK_7Ec"
      },
      "source": [
        "device = torch.device('cuda')"
      ],
      "execution_count": 24,
      "outputs": []
    },
    {
      "cell_type": "code",
      "metadata": {
        "id": "NHAb-opgA7b8"
      },
      "source": [
        "def train(env, policy, optimizer, discount_factor, device):\n",
        "    \n",
        "    policy.train()\n",
        "    \n",
        "    log_prob_actions = []\n",
        "    entropies = []\n",
        "    value_preds = []\n",
        "    rewards = []\n",
        "    done = False\n",
        "    episode_reward = 0\n",
        "\n",
        "    state = env.reset()\n",
        "\n",
        "    while not done:\n",
        "\n",
        "        state = torch.FloatTensor(state).unsqueeze(0).to(device)\n",
        "\n",
        "        action_pred, value_pred = policy(state)\n",
        "        \n",
        "        action_prob = F.softmax(action_pred, dim = -1)\n",
        "                \n",
        "        dist = distributions.Categorical(action_prob)\n",
        "\n",
        "        action = dist.sample()\n",
        "        log_prob_action = dist.log_prob(action)\n",
        "        \n",
        "        entropy = dist.entropy()\n",
        "\n",
        "        state, reward, done, _ = env.step(action.item())\n",
        "\n",
        "        log_prob_actions.append(log_prob_action)\n",
        "        entropies.append(entropy)\n",
        "        value_preds.append(value_pred.squeeze(0))\n",
        "        rewards.append(reward)\n",
        "\n",
        "        episode_reward += reward\n",
        "\n",
        "    log_prob_actions = torch.cat(log_prob_actions)\n",
        "    entropies = torch.cat(entropies)\n",
        "    value_preds = torch.cat(value_preds)\n",
        "        \n",
        "    returns = calculate_returns(rewards, discount_factor, device)\n",
        "    advantages = calculate_advantages(returns, value_preds)\n",
        "\n",
        "    loss = update_policy(advantages, log_prob_actions, returns, value_preds, entropies, optimizer)\n",
        "\n",
        "    return loss, episode_reward"
      ],
      "execution_count": 25,
      "outputs": []
    },
    {
      "cell_type": "code",
      "metadata": {
        "id": "uhnGQt3FA-0P"
      },
      "source": [
        "def calculate_returns(rewards, discount_factor, device, normalize = True):\n",
        "    \n",
        "    returns = []\n",
        "    R = 0\n",
        "    \n",
        "    for r in reversed(rewards):\n",
        "        R = r + R * discount_factor\n",
        "        returns.insert(0, R)\n",
        "        \n",
        "    returns = torch.tensor(returns).to(device)\n",
        "    \n",
        "    if normalize:\n",
        "        returns = (returns - returns.mean()) / returns.std()\n",
        "        \n",
        "    return returns"
      ],
      "execution_count": 26,
      "outputs": []
    },
    {
      "cell_type": "code",
      "metadata": {
        "id": "c_FPx8bR3y9g"
      },
      "source": [
        "def calculate_advantages(returns, pred_values, normalize = True):\n",
        "    \n",
        "    advantages = returns - pred_values\n",
        "    \n",
        "    if normalize:\n",
        "        \n",
        "        advantages = (advantages - advantages.mean()) / advantages.std()\n",
        "        \n",
        "    return advantages"
      ],
      "execution_count": 27,
      "outputs": []
    },
    {
      "cell_type": "code",
      "metadata": {
        "id": "MxefSt0hCaRM"
      },
      "source": [
        "def update_policy(advantages, log_prob_actions, returns, value_preds, entropies, optimizer):\n",
        "    \n",
        "    returns = returns.detach()\n",
        "    \n",
        "    policy_loss = -(advantages * log_prob_actions).mean()\n",
        "    value_loss = F.smooth_l1_loss(returns, value_preds)\n",
        "\n",
        "    optimizer.zero_grad()\n",
        "    \n",
        "    loss = policy_loss + value_loss * 0.5 - entropies.mean() * 0.01\n",
        "    \n",
        "    loss.backward()\n",
        "    \n",
        "    optimizer.step()\n",
        "    \n",
        "    return loss.item()"
      ],
      "execution_count": 28,
      "outputs": []
    },
    {
      "cell_type": "code",
      "metadata": {
        "id": "dHbV1Ec_CdxK"
      },
      "source": [
        "def evaluate(env, policy, device):\n",
        "    \n",
        "    policy.eval()\n",
        "    \n",
        "    done = False\n",
        "    episode_reward = 0\n",
        "\n",
        "    state = env.reset()\n",
        "\n",
        "    while not done:\n",
        "        \n",
        "        state = torch.FloatTensor(state).unsqueeze(0).to(device)\n",
        "        \n",
        "        with torch.no_grad():\n",
        "        \n",
        "            action_pred, _ = policy(state)\n",
        "        \n",
        "            action_prob = F.softmax(action_pred, dim = -1)\n",
        "                            \n",
        "        action = torch.argmax(action_prob, dim = -1)\n",
        "            \n",
        "        state, reward, done, _ = env.step(action.item())\n",
        "\n",
        "        episode_reward += reward\n",
        "        \n",
        "    return episode_reward"
      ],
      "execution_count": 29,
      "outputs": []
    },
    {
      "cell_type": "code",
      "metadata": {
        "id": "-rdcX8lLDAER",
        "outputId": "3c8f672a-8042-4fbe-f3c2-c83cb40c8f26",
        "colab": {
          "base_uri": "https://localhost:8080/",
          "height": 104
        }
      },
      "source": [
        "n_runs = 5\n",
        "max_episodes = 300\n",
        "discount_factor = 0.99\n",
        "\n",
        "train_rewards = torch.zeros(n_runs, max_episodes)\n",
        "test_rewards = torch.zeros(n_runs, max_episodes)\n",
        "device = torch.device('cpu')\n",
        "\n",
        "for run in range(n_runs):\n",
        "    \n",
        "    actor = MLP(input_dim, hidden_dim, output_dim)\n",
        "    critic = MLP(input_dim, hidden_dim, 1)\n",
        "    actor_critic = ActorCritic(actor, critic)\n",
        "    actor_critic = actor_critic.to(device)\n",
        "    actor_critic.apply(init_weights)\n",
        "    optimizer = optim.RMSprop(actor_critic.parameters(), eps=1e-5)\n",
        "    \n",
        "    for episode in tqdm.tqdm(range(max_episodes), desc=f'Run: {run}'):\n",
        "        \n",
        "        loss, train_reward = train(train_env, actor_critic, optimizer, discount_factor, device)\n",
        "        \n",
        "        test_reward = evaluate(test_env, actor_critic, device)\n",
        "        \n",
        "        train_rewards[run][episode] = train_reward\n",
        "        test_rewards[run][episode] = test_reward"
      ],
      "execution_count": 30,
      "outputs": [
        {
          "output_type": "stream",
          "text": [
            "Run: 0: 100%|██████████| 300/300 [01:42<00:00,  2.93it/s]\n",
            "Run: 1: 100%|██████████| 300/300 [01:38<00:00,  3.05it/s]\n",
            "Run: 2: 100%|██████████| 300/300 [01:38<00:00,  3.04it/s]\n",
            "Run: 3: 100%|██████████| 300/300 [01:52<00:00,  2.67it/s]\n",
            "Run: 4: 100%|██████████| 300/300 [01:44<00:00,  2.88it/s]\n"
          ],
          "name": "stderr"
        }
      ]
    },
    {
      "cell_type": "code",
      "metadata": {
        "id": "jhRxmYL1FLhz",
        "outputId": "4f3ef5b4-7d7b-430c-9feb-947b9ac4483d",
        "colab": {
          "base_uri": "https://localhost:8080/",
          "height": 388
        }
      },
      "source": [
        "idxs = range(max_episodes)\n",
        "fig, ax = plt.subplots(1, figsize=(10,6))\n",
        "ax.plot(idxs, test_rewards.mean(0))\n",
        "ax.fill_between(idxs, test_rewards.min(0).values, test_rewards.max(0).values, alpha=0.1)\n",
        "ax.set_xlabel('Steps')\n",
        "ax.set_ylabel('Rewards');"
      ],
      "execution_count": 31,
      "outputs": [
        {
          "output_type": "display_data",
          "data": {
            "image/png": "[encoded data removed]",
            "text/plain": [
              "<Figure size 720x432 with 1 Axes>"
            ]
          },
          "metadata": {
            "tags": [],
            "needs_background": "light"
          }
        }
      ]
    },
    {
      "cell_type": "code",
      "metadata": {
        "id": "SkzpFIC7zttT",
        "outputId": "6828f240-3d7e-47b0-bf03-4bb407a92155",
        "colab": {
          "base_uri": "https://localhost:8080/",
          "height": 52
        }
      },
      "source": [
        "x = torch.randn(2, 10)\n",
        "y = torch.randn(2, 10)\n",
        "print(F.smooth_l1_loss(x, y))\n",
        "print(F.mse_loss(x, y)) "
      ],
      "execution_count": 32,
      "outputs": [
        {
          "output_type": "stream",
          "text": [
            "tensor(0.6398)\n",
            "tensor(1.8497)\n"
          ],
          "name": "stdout"
        }
      ]
    },
    {
      "cell_type": "markdown",
      "metadata": {
        "id": "S8NwG5Eiz4NZ"
      },
      "source": [
        "\n",
        "\n",
        "```\n",
        "# This is formatted as code\n",
        "```\n",
        "\n"
      ]
    },
    {
      "cell_type": "markdown",
      "metadata": {
        "id": "TgQoXeO1itDY"
      },
      "source": [
        "\n",
        "\n",
        "```\n",
        "# This is formatted as code\n",
        "```\n",
        "\n"
      ]
    }
  ]
}