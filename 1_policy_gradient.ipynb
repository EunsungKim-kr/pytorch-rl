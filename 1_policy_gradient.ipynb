{
  "nbformat": 4,
  "nbformat_minor": 0,
  "metadata": {
    "colab": {
      "name": "scratchpad.ipynb",
      "provenance": [],
      "machine_shape": "hm"
    },
    "kernelspec": {
      "display_name": "Python 3",
      "name": "python3"
    },
    "accelerator": "GPU"
  },
  "cells": [
    {
      "cell_type": "code",
      "metadata": {
        "id": "lIYdn1woOS1n"
      },
      "source": [
        "import torch\n",
        "import torch.nn as nn\n",
        "import torch.optim as optim\n",
        "import torch.nn.functional as F\n",
        "import torch.distributions as distributions\n",
        "\n",
        "import matplotlib.pyplot as plt\n",
        "import numpy as np\n",
        "import gym\n",
        "import tqdm"
      ],
      "execution_count": 1,
      "outputs": []
    },
    {
      "cell_type": "code",
      "metadata": {
        "id": "D1kir0PxunA7"
      },
      "source": [
        "train_env = gym.make('CartPole-v1')\n",
        "test_env = gym.make('CartPole-v1')"
      ],
      "execution_count": 2,
      "outputs": []
    },
    {
      "cell_type": "code",
      "metadata": {
        "id": "Bh6ySKtk4giJ"
      },
      "source": [
        "SEED = 1234\n",
        "\n",
        "train_env.seed(SEED);\n",
        "test_env.seed(SEED+1);\n",
        "np.random.seed(SEED);\n",
        "torch.manual_seed(SEED);"
      ],
      "execution_count": 3,
      "outputs": []
    },
    {
      "cell_type": "code",
      "metadata": {
        "id": "hOxENZewvGhX"
      },
      "source": [
        "class MLP(nn.Module):\n",
        "    def __init__(self, input_dim, hidden_dim, output_dim):\n",
        "        super().__init__()\n",
        "\n",
        "        self.fc_1 = nn.Linear(input_dim, hidden_dim)\n",
        "        self.fc_2 = nn.Linear(hidden_dim, output_dim)\n",
        "\n",
        "    def forward(self, x):\n",
        "        x = self.fc_1(x)\n",
        "        x = F.relu(x)\n",
        "        x = self.fc_2(x)\n",
        "        return x"
      ],
      "execution_count": 4,
      "outputs": []
    },
    {
      "cell_type": "code",
      "metadata": {
        "id": "C42N0qKUxo0d"
      },
      "source": [
        "input_dim = train_env.observation_space.shape[0]\n",
        "hidden_dim = 32\n",
        "output_dim = train_env.action_space.n"
      ],
      "execution_count": 5,
      "outputs": []
    },
    {
      "cell_type": "code",
      "metadata": {
        "id": "DMalrE2I0iNn"
      },
      "source": [
        "def init_weights(m):\n",
        "    if type(m) == nn.Linear:\n",
        "        torch.nn.init.xavier_normal_(m.weight)\n",
        "        m.bias.data.fill_(0)"
      ],
      "execution_count": 6,
      "outputs": []
    },
    {
      "cell_type": "code",
      "metadata": {
        "id": "jmDLrSWK_7Ec"
      },
      "source": [
        "device = torch.device('cuda')"
      ],
      "execution_count": 7,
      "outputs": []
    },
    {
      "cell_type": "code",
      "metadata": {
        "id": "NHAb-opgA7b8"
      },
      "source": [
        "def train(env, policy, optimizer, discount_factor, device):\n",
        "    \n",
        "    policy.train()\n",
        "    \n",
        "    log_prob_actions = []\n",
        "    rewards = []\n",
        "    done = False\n",
        "    episode_reward = 0\n",
        "\n",
        "    state = env.reset()\n",
        "\n",
        "    while not done:\n",
        "\n",
        "        state = torch.FloatTensor(state).unsqueeze(0).to(device)\n",
        "\n",
        "        action_pred = policy(state)\n",
        "        \n",
        "        action_prob = F.softmax(action_pred, dim = -1)\n",
        "                \n",
        "        dist = distributions.Categorical(action_prob)\n",
        "\n",
        "        action = dist.sample()\n",
        "\n",
        "        log_prob_action = dist.log_prob(action)\n",
        "        \n",
        "        state, reward, done, _ = env.step(action.item())\n",
        "\n",
        "        log_prob_actions.append(log_prob_action)\n",
        "        rewards.append(reward)\n",
        "\n",
        "        episode_reward += reward\n",
        "\n",
        "    log_prob_actions = torch.cat(log_prob_actions)\n",
        "        \n",
        "    returns = calculate_returns(rewards, discount_factor, device)\n",
        "\n",
        "    loss = update_policy(returns, log_prob_actions, optimizer)\n",
        "\n",
        "    return loss, episode_reward"
      ],
      "execution_count": 8,
      "outputs": []
    },
    {
      "cell_type": "code",
      "metadata": {
        "id": "uhnGQt3FA-0P"
      },
      "source": [
        "def calculate_returns(rewards, discount_factor, device, normalize = True):\n",
        "    \n",
        "    returns = []\n",
        "    R = 0\n",
        "    \n",
        "    for r in reversed(rewards):\n",
        "        R = r + R * discount_factor\n",
        "        returns.insert(0, R)\n",
        "        \n",
        "    returns = torch.tensor(returns).to(device)\n",
        "    \n",
        "    if normalize:\n",
        "        returns = (returns - returns.mean()) / returns.std()\n",
        "        \n",
        "    return returns"
      ],
      "execution_count": 9,
      "outputs": []
    },
    {
      "cell_type": "code",
      "metadata": {
        "id": "MxefSt0hCaRM"
      },
      "source": [
        "def update_policy(returns, log_prob_actions, optimizer):\n",
        "    \n",
        "    returns = returns.detach()\n",
        "    \n",
        "    loss = -(returns * log_prob_actions).sum()\n",
        "    \n",
        "    optimizer.zero_grad()\n",
        "    \n",
        "    loss.backward()\n",
        "    \n",
        "    optimizer.step()\n",
        "    \n",
        "    return loss.item()"
      ],
      "execution_count": 10,
      "outputs": []
    },
    {
      "cell_type": "code",
      "metadata": {
        "id": "dHbV1Ec_CdxK"
      },
      "source": [
        "def evaluate(env, policy, device):\n",
        "    \n",
        "    policy.eval()\n",
        "    \n",
        "    done = False\n",
        "    episode_reward = 0\n",
        "\n",
        "    state = env.reset()\n",
        "\n",
        "    while not done:\n",
        "        \n",
        "        state = torch.FloatTensor(state).unsqueeze(0).to(device)\n",
        "        \n",
        "        with torch.no_grad():\n",
        "        \n",
        "            action_pred = policy(state)\n",
        "            \n",
        "            action_prob = F.softmax(action_pred, dim = -1)\n",
        "                            \n",
        "        action = torch.argmax(action_prob, dim = -1)\n",
        "\n",
        "        state, reward, done, _ = env.step(action.item())\n",
        "\n",
        "        episode_reward += reward\n",
        "        \n",
        "    return episode_reward"
      ],
      "execution_count": 11,
      "outputs": []
    },
    {
      "cell_type": "code",
      "metadata": {
        "id": "-rdcX8lLDAER",
        "outputId": "ad4a24a3-482c-42a8-9296-798ab28255f3",
        "colab": {
          "base_uri": "https://localhost:8080/",
          "height": 104
        }
      },
      "source": [
        "n_runs = 5\n",
        "max_episodes = 300\n",
        "discount_factor = 0.99\n",
        "\n",
        "train_rewards = torch.zeros(n_runs, max_episodes)\n",
        "test_rewards = torch.zeros(n_runs, max_episodes)\n",
        "device = torch.device('cpu')\n",
        "\n",
        "for run in range(n_runs):\n",
        "    \n",
        "    policy = MLP(input_dim, hidden_dim, output_dim)\n",
        "    policy = policy.to(device)\n",
        "    policy.apply(init_weights)\n",
        "    optimizer = optim.RMSprop(policy.parameters(), eps=1e-5)\n",
        "    \n",
        "    for episode in tqdm.tqdm(range(max_episodes), desc=f'Run: {run}'):\n",
        "        \n",
        "        loss, train_reward = train(train_env, policy, optimizer, discount_factor, device)\n",
        "        \n",
        "        test_reward = evaluate(test_env, policy, device)\n",
        "        \n",
        "        train_rewards[run][episode] = train_reward\n",
        "        test_rewards[run][episode] = test_reward"
      ],
      "execution_count": 12,
      "outputs": [
        {
          "output_type": "stream",
          "text": [
            "Run: 0: 100%|██████████| 300/300 [01:18<00:00,  3.81it/s]\n",
            "Run: 1: 100%|██████████| 300/300 [00:33<00:00,  8.91it/s]\n",
            "Run: 2: 100%|██████████| 300/300 [00:36<00:00,  8.18it/s]\n",
            "Run: 3: 100%|██████████| 300/300 [00:37<00:00,  8.00it/s]\n",
            "Run: 4: 100%|██████████| 300/300 [00:51<00:00,  5.87it/s]\n"
          ],
          "name": "stderr"
        }
      ]
    },
    {
      "cell_type": "code",
      "metadata": {
        "id": "jhRxmYL1FLhz",
        "outputId": "81881a0f-feb1-4d88-f84a-40a51bdfb4d7",
        "colab": {
          "base_uri": "https://localhost:8080/",
          "height": 388
        }
      },
      "source": [
        "idxs = range(max_episodes)\n",
        "fig, ax = plt.subplots(1, figsize=(10,6))\n",
        "ax.plot(idxs, test_rewards.mean(0))\n",
        "ax.fill_between(idxs, test_rewards.min(0).values, test_rewards.max(0).values, alpha=0.1)\n",
        "ax.set_xlabel('Steps')\n",
        "ax.set_ylabel('Rewards');"
      ],
      "execution_count": 13,
      "outputs": [
        {
          "output_type": "display_data",
          "data": {
            "image/png": "[encoded data removed]",
            "text/plain": [
              "<Figure size 720x432 with 1 Axes>"
            ]
          },
          "metadata": {
            "tags": [],
            "needs_background": "light"
          }
        }
      ]
    },
    {
      "cell_type": "markdown",
      "metadata": {
        "id": "TgQoXeO1itDY"
      },
      "source": [
        ""
      ]
    }
  ]
}